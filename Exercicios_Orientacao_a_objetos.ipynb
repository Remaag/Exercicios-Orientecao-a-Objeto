{
  "cells": [
    {
      "cell_type": "markdown",
      "metadata": {
        "id": "CXof86h3x2Gx"
      },
      "source": [
        "# Exercícios : Orientação a Objetos no Python"
      ]
    },
    {
      "cell_type": "markdown",
      "metadata": {
        "id": "s4mG0KoFx2G1"
      },
      "source": [
        "### Exercício 1: Registro de Pacientes\n",
        "\n",
        "Crie uma classe chamada Paciente que represente os pacientes de uma clínica de saúde. A classe deve ter as seguintes propriedades:\n",
        "\n",
        "nome: Nome do paciente\n",
        "idade: Idade do paciente\n",
        "sexo: Sexo do paciente (masculino/feminino)\n",
        "historico_medico: Lista que armazena o histórico médico do paciente\n",
        "\n",
        "Além disso, a classe deve ter os seguintes métodos:\n",
        "\n",
        "adicionar_historico(medico, diagnostico): Método que adiciona uma entrada ao histórico médico do paciente, contendo o nome do médico e o diagnóstico fornecido.\n",
        "imprimir_historico(): Método que imprime o histórico médico do paciente."
      ]
    },
    {
      "cell_type": "code",
      "execution_count": 4,
      "metadata": {
        "id": "Pk1_MuKIx2G2"
      },
      "outputs": [
        {
          "name": "stdout",
          "output_type": "stream",
          "text": [
            "\n",
            "        Opção de ações:\n",
            "            1 - Adicionar paciente;\n",
            "            2 - Adicionar um novo historico médico;\n",
            "            3 - Imprimir lista de historicos;\n",
            "            4 - Imprimir lista de pacientes;\n",
            "            5 - Parar programa. \n",
            "\n",
            "    \n",
            "Paciente Jay, de 20 anos, do sexo M adicioando.\n",
            "Opção 1 não encontrada. insira uma nas opções listadas. \n",
            "\n",
            "\n",
            "        Opção de ações:\n",
            "            1 - Adicionar paciente;\n",
            "            2 - Adicionar um novo historico médico;\n",
            "            3 - Imprimir lista de historicos;\n",
            "            4 - Imprimir lista de pacientes;\n",
            "            5 - Parar programa. \n",
            "\n",
            "    \n",
            "[<__main__.Paciente object at 0x000001F6D29393D0>]\n",
            "\n",
            "        Opção de ações:\n",
            "            1 - Adicionar paciente;\n",
            "            2 - Adicionar um novo historico médico;\n",
            "            3 - Imprimir lista de historicos;\n",
            "            4 - Imprimir lista de pacientes;\n",
            "            5 - Parar programa. \n",
            "\n",
            "    \n"
          ]
        },
        {
          "ename": "ValueError",
          "evalue": "invalid literal for int() with base 10: ''",
          "output_type": "error",
          "traceback": [
            "\u001b[1;31m---------------------------------------------------------------------------\u001b[0m",
            "\u001b[1;31mValueError\u001b[0m                                Traceback (most recent call last)",
            "Cell \u001b[1;32mIn[4], line 22\u001b[0m\n\u001b[0;32m     13\u001b[0m \u001b[38;5;28;01mwhile\u001b[39;00m opcao \u001b[38;5;241m!=\u001b[39m \u001b[38;5;241m5\u001b[39m :\n\u001b[0;32m     14\u001b[0m     \u001b[38;5;28mprint\u001b[39m(\u001b[38;5;124m'''\u001b[39m\n\u001b[0;32m     15\u001b[0m \u001b[38;5;124m        Opção de ações:\u001b[39m\n\u001b[0;32m     16\u001b[0m \u001b[38;5;124m            1 - Adicionar paciente;\u001b[39m\n\u001b[1;32m   (...)\u001b[0m\n\u001b[0;32m     20\u001b[0m \u001b[38;5;124m            5 - Parar programa. \u001b[39m\u001b[38;5;130;01m\\n\u001b[39;00m\n\u001b[0;32m     21\u001b[0m \u001b[38;5;124m    \u001b[39m\u001b[38;5;124m'''\u001b[39m)\n\u001b[1;32m---> 22\u001b[0m     opcao \u001b[38;5;241m=\u001b[39m \u001b[38;5;28;43mint\u001b[39;49m\u001b[43m \u001b[49m\u001b[43m(\u001b[49m\u001b[38;5;28;43minput\u001b[39;49m\u001b[43m \u001b[49m\u001b[43m(\u001b[49m\u001b[38;5;124;43m'\u001b[39;49m\u001b[38;5;124;43mDigite a opção desejada\u001b[39;49m\u001b[38;5;124;43m'\u001b[39;49m\u001b[43m)\u001b[49m\u001b[43m)\u001b[49m\n\u001b[0;32m     24\u001b[0m \u001b[38;5;66;03m# Função para criar uma instancia do objeto paciente\u001b[39;00m\n\u001b[0;32m     25\u001b[0m     \u001b[38;5;28;01mif\u001b[39;00m opcao \u001b[38;5;241m==\u001b[39m \u001b[38;5;241m1\u001b[39m :\n",
            "\u001b[1;31mValueError\u001b[0m: invalid literal for int() with base 10: ''"
          ]
        }
      ],
      "source": [
        "# Listas e variaveis vazias   \n",
        "paciente = []\n",
        "historico_medico = []\n",
        "opcao = ''\n",
        "\n",
        "# classe para a criação do objeto paciente\n",
        "class Paciente:\n",
        "    def __init__ (self, nome, idade, sexo):\n",
        "        self.nome = \"\"\n",
        "        self.idade = \"\"\n",
        "        self.sexo = \"\"\n",
        "\n",
        "# While com as opções de ações possiveis de serem feitas no sistema\n",
        "while opcao != 5 :\n",
        "    print('''\n",
        "        Opção de ações:\n",
        "            1 - Adicionar paciente;\n",
        "            2 - Adicionar um novo historico médico;\n",
        "            3 - Imprimir lista de historicos;\n",
        "            4 - Imprimir lista de pacientes;\n",
        "            5 - Parar programa. \\n\n",
        "    ''')\n",
        "    opcao = int (input ('Digite a opção desejada'))\n",
        "\n",
        "# Função para criar uma instancia do objeto paciente\n",
        "    if opcao == 1 :\n",
        "        nome = input ('Nome do paciente')\n",
        "        idade = input ('Idade do paciente')\n",
        "        sexo = input ('Sexo do paciente')\n",
        "\n",
        "        novo_paciente = Paciente(nome, idade, sexo)\n",
        "        paciente.append(novo_paciente)\n",
        "\n",
        "        print (f'Paciente {nome}, de {idade} anos, do sexo {sexo} adicioando.')\n",
        "    \n",
        "    if opcao == 2 :\n",
        "        def adicionar_historico(historico_medico):\n",
        "            consultas = ()\n",
        "            medico = input ('Digite o nome do médico')\n",
        "            diagnostico = input ('Digite o diagnostico do paciente')\n",
        "            consulta = medico, diagnostico\n",
        "            consultas.append(consulta)\n",
        "            historico_medico.append(consultas)\n",
        "            \n",
        "            print(f\"{medico}, {diagnostico}\")\n",
        "\n",
        "    elif opcao == 3 :\n",
        "        #def imprimir_historico():\n",
        "            print(historico_medico)\n",
        "\n",
        "    elif opcao == 4 :\n",
        "        #def imprimir_paciente():\n",
        "            print(paciente)\n",
        "\n",
        "    elif opcao == 5 :\n",
        "        print('Programa encerrado. \\n')\n",
        "\n",
        "    else :\n",
        "        print (f'Opção {opcao} não encontrada. insira uma nas opções listadas. \\n')"
      ]
    },
    {
      "cell_type": "markdown",
      "metadata": {
        "id": "nmGNe_FHx2G2"
      },
      "source": [
        "### Exercício 2: Controle de Equipamentos Médicos\n",
        "\n",
        "Crie uma classe chamada EquipamentoMedico que representa os equipamentos médicos de uma clínica. A classe deve ter as seguintes propriedades:\n",
        "\n",
        "nome: Nome do equipamento\n",
        "tipo: Tipo de equipamento (ex: \"Raio-X\", \"Tomógrafo\", etc.)\n",
        "status: Status do equipamento (disponível/manutenção/fora de serviço)\n",
        "Além disso, a classe deve ter os seguintes métodos:\n",
        "\n",
        "alterar_status(novo_status): Método que altera o status do equipamento.\n",
        "verificar_status(): Método que retorna o status atual do equipamento."
      ]
    },
    {
      "cell_type": "code",
      "execution_count": null,
      "metadata": {
        "id": "v4magUQOx2G2"
      },
      "outputs": [],
      "source": []
    },
    {
      "cell_type": "markdown",
      "metadata": {
        "id": "mORBC6R9x2G2"
      },
      "source": [
        "### Exercício: Registro de Consultas Médicas\n",
        "Crie uma classe chamada ConsultaMedica que represente as consultas médicas realizadas em uma clínica. A classe deve ter as seguintes propriedades:\n",
        "\n",
        "data: Data da consulta\n",
        "paciente: Objeto da classe Paciente representando o paciente da consulta\n",
        "medico: Nome do médico responsável pela consulta\n",
        "diagnostico: Diagnóstico fornecido durante a consulta\n",
        "Além disso, a classe deve ter um método:\n",
        "\n",
        "imprimir_informacoes(): Método que imprime as informações da consulta."
      ]
    },
    {
      "cell_type": "code",
      "execution_count": null,
      "metadata": {
        "id": "9Cx153rLx2G3"
      },
      "outputs": [],
      "source": [
        "\n"
      ]
    }
  ],
  "metadata": {
    "colab": {
      "provenance": []
    },
    "kernelspec": {
      "display_name": "Python 3",
      "language": "python",
      "name": "python3"
    },
    "language_info": {
      "codemirror_mode": {
        "name": "ipython",
        "version": 3
      },
      "file_extension": ".py",
      "mimetype": "text/x-python",
      "name": "python",
      "nbconvert_exporter": "python",
      "pygments_lexer": "ipython3",
      "version": "3.11.5"
    }
  },
  "nbformat": 4,
  "nbformat_minor": 0
}
